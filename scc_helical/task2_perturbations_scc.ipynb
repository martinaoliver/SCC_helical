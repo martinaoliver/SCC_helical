{
 "cells": [
  {
   "cell_type": "code",
   "execution_count": 14,
   "id": "initial_id",
   "metadata": {
    "collapsed": true,
    "ExecuteTime": {
     "end_time": "2024-11-26T16:54:07.162038Z",
     "start_time": "2024-11-26T16:54:07.154657Z"
    }
   },
   "outputs": [],
   "source": [
    "import pandas as pd\n",
    "import scanpy as sc\n",
    "import numpy as np\n",
    "np.random.seed(1)\n",
    "import scipy.sparse as sp\n",
    "from anndata import concat\n",
    "\n",
    "from helical import Geneformer,GeneformerConfig\n",
    "\n",
    "from functions import add_noise, add_perturbations"
   ]
  },
  {
   "cell_type": "markdown",
   "source": [
    "# 1. Preprocess scRNA data (only run once)"
   ],
   "metadata": {
    "collapsed": false
   },
   "id": "2a65149babc5878e"
  },
  {
   "cell_type": "markdown",
   "source": [
    "### Load counts matrix and preprocess"
   ],
   "metadata": {
    "collapsed": false
   },
   "id": "cde1ac1d84414f6f"
  },
  {
   "cell_type": "code",
   "outputs": [
    {
     "data": {
      "text/plain": "                             RP11-34P13.7  AL627309.1  AP006222.2  \\\nP1_Tumor_AAACCTGAGTCAAGCG               0           0           0   \nP1_Tumor_AAACCTGCAAATTGCC               0           0           0   \nP1_Tumor_AAACCTGGTAGGAGTC               0           0           1   \nP1_Tumor_AAACGGGAGATGTAAC               0           0           0   \nP1_Tumor_AAACGGGAGCTGCAAG               0           0           0   \n...                                   ...         ...         ...   \nP10_Normal_TTTGTCAAGAGTCTGG             0           0           0   \nP10_Normal_TTTGTCAAGTCGTTTG             0           0           0   \nP10_Normal_TTTGTCACAGTGGGAT             0           0           0   \nP10_Normal_TTTGTCATCCAGGGCT             0           0           0   \nP10_Normal_TTTGTCATCGAGGTAG             0           0           0   \n\n                             RP4-669L17.10  RP11-206L10.3  RP11-206L10.2  \\\nP1_Tumor_AAACCTGAGTCAAGCG                0              0              0   \nP1_Tumor_AAACCTGCAAATTGCC                0              0              0   \nP1_Tumor_AAACCTGGTAGGAGTC                0              0              0   \nP1_Tumor_AAACGGGAGATGTAAC                0              0              0   \nP1_Tumor_AAACGGGAGCTGCAAG                0              0              0   \n...                                    ...            ...            ...   \nP10_Normal_TTTGTCAAGAGTCTGG              0              0              0   \nP10_Normal_TTTGTCAAGTCGTTTG              0              0              0   \nP10_Normal_TTTGTCACAGTGGGAT              0              0              0   \nP10_Normal_TTTGTCATCCAGGGCT              0              0              0   \nP10_Normal_TTTGTCATCGAGGTAG              0              0              0   \n\n                             RP11-206L10.9  FAM87B  LINC00115  FAM41C  ...  \\\nP1_Tumor_AAACCTGAGTCAAGCG                0       0          1       0  ...   \nP1_Tumor_AAACCTGCAAATTGCC                0       0          0       0  ...   \nP1_Tumor_AAACCTGGTAGGAGTC                0       0          0       1  ...   \nP1_Tumor_AAACGGGAGATGTAAC                0       0          0       0  ...   \nP1_Tumor_AAACGGGAGCTGCAAG                0       0          0       0  ...   \n...                                    ...     ...        ...     ...  ...   \nP10_Normal_TTTGTCAAGAGTCTGG              0       0          0       0  ...   \nP10_Normal_TTTGTCAAGTCGTTTG              0       0          0       1  ...   \nP10_Normal_TTTGTCACAGTGGGAT              0       0          0       0  ...   \nP10_Normal_TTTGTCATCCAGGGCT              0       0          0       0  ...   \nP10_Normal_TTTGTCATCGAGGTAG              0       0          0       0  ...   \n\n                             BX072566.1  KIR2DL2  KIR3DL2.1  AL590523.1  \\\nP1_Tumor_AAACCTGAGTCAAGCG             0        0          0           0   \nP1_Tumor_AAACCTGCAAATTGCC             0        0          0           0   \nP1_Tumor_AAACCTGGTAGGAGTC             0        0          0           0   \nP1_Tumor_AAACGGGAGATGTAAC             0        0          0           0   \nP1_Tumor_AAACGGGAGCTGCAAG             0        0          0           0   \n...                                 ...      ...        ...         ...   \nP10_Normal_TTTGTCAAGAGTCTGG           0        0          0           0   \nP10_Normal_TTTGTCAAGTCGTTTG           0        0          0           0   \nP10_Normal_TTTGTCACAGTGGGAT           0        0          0           0   \nP10_Normal_TTTGTCATCCAGGGCT           0        0          0           0   \nP10_Normal_TTTGTCATCGAGGTAG           0        0          0           0   \n\n                             CT476828.1  AC145205.1  BAGE5  CU459201.1  \\\nP1_Tumor_AAACCTGAGTCAAGCG             0           0      0           0   \nP1_Tumor_AAACCTGCAAATTGCC             0           0      0           0   \nP1_Tumor_AAACCTGGTAGGAGTC             0           0      0           0   \nP1_Tumor_AAACGGGAGATGTAAC             0           0      0           0   \nP1_Tumor_AAACGGGAGCTGCAAG             0           0      0           0   \n...                                 ...         ...    ...         ...   \nP10_Normal_TTTGTCAAGAGTCTGG           0           0      0           0   \nP10_Normal_TTTGTCAAGTCGTTTG           0           0      0           0   \nP10_Normal_TTTGTCACAGTGGGAT           0           0      0           0   \nP10_Normal_TTTGTCATCCAGGGCT           0           0      0           0   \nP10_Normal_TTTGTCATCGAGGTAG           0           0      0           0   \n\n                             AC002321.2  AC002321.1  \nP1_Tumor_AAACCTGAGTCAAGCG             0           0  \nP1_Tumor_AAACCTGCAAATTGCC             0           0  \nP1_Tumor_AAACCTGGTAGGAGTC             0           0  \nP1_Tumor_AAACGGGAGATGTAAC             0           0  \nP1_Tumor_AAACGGGAGCTGCAAG             0           0  \n...                                 ...         ...  \nP10_Normal_TTTGTCAAGAGTCTGG           0           0  \nP10_Normal_TTTGTCAAGTCGTTTG           0           0  \nP10_Normal_TTTGTCACAGTGGGAT           0           0  \nP10_Normal_TTTGTCATCCAGGGCT           0           0  \nP10_Normal_TTTGTCATCGAGGTAG           0           0  \n\n[48164 rows x 32738 columns]",
      "text/html": "<div>\n<style scoped>\n    .dataframe tbody tr th:only-of-type {\n        vertical-align: middle;\n    }\n\n    .dataframe tbody tr th {\n        vertical-align: top;\n    }\n\n    .dataframe thead th {\n        text-align: right;\n    }\n</style>\n<table border=\"1\" class=\"dataframe\">\n  <thead>\n    <tr style=\"text-align: right;\">\n      <th></th>\n      <th>RP11-34P13.7</th>\n      <th>AL627309.1</th>\n      <th>AP006222.2</th>\n      <th>RP4-669L17.10</th>\n      <th>RP11-206L10.3</th>\n      <th>RP11-206L10.2</th>\n      <th>RP11-206L10.9</th>\n      <th>FAM87B</th>\n      <th>LINC00115</th>\n      <th>FAM41C</th>\n      <th>...</th>\n      <th>BX072566.1</th>\n      <th>KIR2DL2</th>\n      <th>KIR3DL2.1</th>\n      <th>AL590523.1</th>\n      <th>CT476828.1</th>\n      <th>AC145205.1</th>\n      <th>BAGE5</th>\n      <th>CU459201.1</th>\n      <th>AC002321.2</th>\n      <th>AC002321.1</th>\n    </tr>\n  </thead>\n  <tbody>\n    <tr>\n      <th>P1_Tumor_AAACCTGAGTCAAGCG</th>\n      <td>0</td>\n      <td>0</td>\n      <td>0</td>\n      <td>0</td>\n      <td>0</td>\n      <td>0</td>\n      <td>0</td>\n      <td>0</td>\n      <td>1</td>\n      <td>0</td>\n      <td>...</td>\n      <td>0</td>\n      <td>0</td>\n      <td>0</td>\n      <td>0</td>\n      <td>0</td>\n      <td>0</td>\n      <td>0</td>\n      <td>0</td>\n      <td>0</td>\n      <td>0</td>\n    </tr>\n    <tr>\n      <th>P1_Tumor_AAACCTGCAAATTGCC</th>\n      <td>0</td>\n      <td>0</td>\n      <td>0</td>\n      <td>0</td>\n      <td>0</td>\n      <td>0</td>\n      <td>0</td>\n      <td>0</td>\n      <td>0</td>\n      <td>0</td>\n      <td>...</td>\n      <td>0</td>\n      <td>0</td>\n      <td>0</td>\n      <td>0</td>\n      <td>0</td>\n      <td>0</td>\n      <td>0</td>\n      <td>0</td>\n      <td>0</td>\n      <td>0</td>\n    </tr>\n    <tr>\n      <th>P1_Tumor_AAACCTGGTAGGAGTC</th>\n      <td>0</td>\n      <td>0</td>\n      <td>1</td>\n      <td>0</td>\n      <td>0</td>\n      <td>0</td>\n      <td>0</td>\n      <td>0</td>\n      <td>0</td>\n      <td>1</td>\n      <td>...</td>\n      <td>0</td>\n      <td>0</td>\n      <td>0</td>\n      <td>0</td>\n      <td>0</td>\n      <td>0</td>\n      <td>0</td>\n      <td>0</td>\n      <td>0</td>\n      <td>0</td>\n    </tr>\n    <tr>\n      <th>P1_Tumor_AAACGGGAGATGTAAC</th>\n      <td>0</td>\n      <td>0</td>\n      <td>0</td>\n      <td>0</td>\n      <td>0</td>\n      <td>0</td>\n      <td>0</td>\n      <td>0</td>\n      <td>0</td>\n      <td>0</td>\n      <td>...</td>\n      <td>0</td>\n      <td>0</td>\n      <td>0</td>\n      <td>0</td>\n      <td>0</td>\n      <td>0</td>\n      <td>0</td>\n      <td>0</td>\n      <td>0</td>\n      <td>0</td>\n    </tr>\n    <tr>\n      <th>P1_Tumor_AAACGGGAGCTGCAAG</th>\n      <td>0</td>\n      <td>0</td>\n      <td>0</td>\n      <td>0</td>\n      <td>0</td>\n      <td>0</td>\n      <td>0</td>\n      <td>0</td>\n      <td>0</td>\n      <td>0</td>\n      <td>...</td>\n      <td>0</td>\n      <td>0</td>\n      <td>0</td>\n      <td>0</td>\n      <td>0</td>\n      <td>0</td>\n      <td>0</td>\n      <td>0</td>\n      <td>0</td>\n      <td>0</td>\n    </tr>\n    <tr>\n      <th>...</th>\n      <td>...</td>\n      <td>...</td>\n      <td>...</td>\n      <td>...</td>\n      <td>...</td>\n      <td>...</td>\n      <td>...</td>\n      <td>...</td>\n      <td>...</td>\n      <td>...</td>\n      <td>...</td>\n      <td>...</td>\n      <td>...</td>\n      <td>...</td>\n      <td>...</td>\n      <td>...</td>\n      <td>...</td>\n      <td>...</td>\n      <td>...</td>\n      <td>...</td>\n      <td>...</td>\n    </tr>\n    <tr>\n      <th>P10_Normal_TTTGTCAAGAGTCTGG</th>\n      <td>0</td>\n      <td>0</td>\n      <td>0</td>\n      <td>0</td>\n      <td>0</td>\n      <td>0</td>\n      <td>0</td>\n      <td>0</td>\n      <td>0</td>\n      <td>0</td>\n      <td>...</td>\n      <td>0</td>\n      <td>0</td>\n      <td>0</td>\n      <td>0</td>\n      <td>0</td>\n      <td>0</td>\n      <td>0</td>\n      <td>0</td>\n      <td>0</td>\n      <td>0</td>\n    </tr>\n    <tr>\n      <th>P10_Normal_TTTGTCAAGTCGTTTG</th>\n      <td>0</td>\n      <td>0</td>\n      <td>0</td>\n      <td>0</td>\n      <td>0</td>\n      <td>0</td>\n      <td>0</td>\n      <td>0</td>\n      <td>0</td>\n      <td>1</td>\n      <td>...</td>\n      <td>0</td>\n      <td>0</td>\n      <td>0</td>\n      <td>0</td>\n      <td>0</td>\n      <td>0</td>\n      <td>0</td>\n      <td>0</td>\n      <td>0</td>\n      <td>0</td>\n    </tr>\n    <tr>\n      <th>P10_Normal_TTTGTCACAGTGGGAT</th>\n      <td>0</td>\n      <td>0</td>\n      <td>0</td>\n      <td>0</td>\n      <td>0</td>\n      <td>0</td>\n      <td>0</td>\n      <td>0</td>\n      <td>0</td>\n      <td>0</td>\n      <td>...</td>\n      <td>0</td>\n      <td>0</td>\n      <td>0</td>\n      <td>0</td>\n      <td>0</td>\n      <td>0</td>\n      <td>0</td>\n      <td>0</td>\n      <td>0</td>\n      <td>0</td>\n    </tr>\n    <tr>\n      <th>P10_Normal_TTTGTCATCCAGGGCT</th>\n      <td>0</td>\n      <td>0</td>\n      <td>0</td>\n      <td>0</td>\n      <td>0</td>\n      <td>0</td>\n      <td>0</td>\n      <td>0</td>\n      <td>0</td>\n      <td>0</td>\n      <td>...</td>\n      <td>0</td>\n      <td>0</td>\n      <td>0</td>\n      <td>0</td>\n      <td>0</td>\n      <td>0</td>\n      <td>0</td>\n      <td>0</td>\n      <td>0</td>\n      <td>0</td>\n    </tr>\n    <tr>\n      <th>P10_Normal_TTTGTCATCGAGGTAG</th>\n      <td>0</td>\n      <td>0</td>\n      <td>0</td>\n      <td>0</td>\n      <td>0</td>\n      <td>0</td>\n      <td>0</td>\n      <td>0</td>\n      <td>0</td>\n      <td>0</td>\n      <td>...</td>\n      <td>0</td>\n      <td>0</td>\n      <td>0</td>\n      <td>0</td>\n      <td>0</td>\n      <td>0</td>\n      <td>0</td>\n      <td>0</td>\n      <td>0</td>\n      <td>0</td>\n    </tr>\n  </tbody>\n</table>\n<p>48164 rows × 32738 columns</p>\n</div>"
     },
     "execution_count": 18,
     "metadata": {},
     "output_type": "execute_result"
    }
   ],
   "source": [
    "file_path = \"../input/GSE144236_cSCC_counts.txt\" #This .txt file contains the scRNA counts for each gene and cell\n",
    "scc_counts_df = pd.read_csv(file_path, sep=\"\\t\", header=0)  #Open .txt file as pandas df, separate by \\t and use first line as header. \n",
    "scc_counts_df_T = scc_counts_df.T #transpose so cells in rows and genes in columns \n",
    "scc_counts_df_T_dropped = scc_counts_df_T.drop(scc_counts_df_T.columns[[0, 1]] , axis=1) #remove two first columns corresponding to patient and tissue type (not genes)\n",
    "gene_names = scc_counts_df_T_dropped.columns.tolist() #save gene names as a list for later\n",
    "scc_counts_df_T_dropped\n"
   ],
   "metadata": {
    "collapsed": false,
    "ExecuteTime": {
     "end_time": "2024-11-26T16:15:55.127225Z",
     "start_time": "2024-11-26T16:09:40.769549Z"
    }
   },
   "id": "3cb0818e7379c555",
   "execution_count": 18
  },
  {
   "cell_type": "markdown",
   "source": [
    "Convert dataframe into AnnData object with counts in a sparse matrix (csr)"
   ],
   "metadata": {
    "collapsed": false
   },
   "id": "b19b7571da35995"
  },
  {
   "cell_type": "code",
   "outputs": [
    {
     "data": {
      "text/plain": "AnnData object with n_obs × n_vars = 48164 × 32738"
     },
     "execution_count": 3,
     "metadata": {},
     "output_type": "execute_result"
    }
   ],
   "source": [
    "scc_annData = sc.AnnData(scc_counts_df_T_dropped) #convert to annData object\n",
    "scc_annData.X = sp.csr_matrix(scc_annData.X, dtype='float64') #convert counts from array to sparse matrix (csr) -> more efficient and required format\n",
    "scc_annData"
   ],
   "metadata": {
    "collapsed": false,
    "ExecuteTime": {
     "end_time": "2024-11-25T17:12:27.575387Z",
     "start_time": "2024-11-25T17:12:27.461718Z"
    }
   },
   "id": "67e247d6e9229559",
   "execution_count": 3
  },
  {
   "cell_type": "markdown",
   "source": [
    "### Load metadata"
   ],
   "metadata": {
    "collapsed": false
   },
   "id": "2717e42b430ee07b"
  },
  {
   "cell_type": "markdown",
   "source": [
    "Open metadata which including patient, tumor type, cell type"
   ],
   "metadata": {
    "collapsed": false
   },
   "id": "41629cdacfbeeaf6"
  },
  {
   "cell_type": "code",
   "outputs": [
    {
     "data": {
      "text/plain": "                             nCount_RNA  nFeature_RNA patient tum.norm  \\\nP1_Tumor_AAACCTGAGTCAAGCG         40856          5206      P1    Tumor   \nP1_Tumor_AAACCTGCAAATTGCC         15511          3468      P1    Tumor   \nP1_Tumor_AAACCTGGTAGGAGTC         24652          4154      P1    Tumor   \nP1_Tumor_AAACGGGAGATGTAAC         27554          4334      P1    Tumor   \nP1_Tumor_AAACGGGAGCTGCAAG         24980          4822      P1    Tumor   \n...                                 ...           ...     ...      ...   \nP10_Normal_TTTGTCAAGAGTCTGG        5585          1659     P10   Normal   \nP10_Normal_TTTGTCAAGTCGTTTG       14207          3541     P10   Normal   \nP10_Normal_TTTGTCACAGTGGGAT       10068          2540     P10   Normal   \nP10_Normal_TTTGTCATCCAGGGCT        5223          1849     P10   Normal   \nP10_Normal_TTTGTCATCGAGGTAG        3644          1598     P10   Normal   \n\n                            level1_celltype  level2_celltype  level3_celltype  \nP1_Tumor_AAACCTGAGTCAAGCG        Epithelial    Tumor_KC_Diff    Tumor_KC_Diff  \nP1_Tumor_AAACCTGCAAATTGCC        Epithelial     Keratinocyte     Keratinocyte  \nP1_Tumor_AAACCTGGTAGGAGTC        Epithelial   Tumor_KC_Basal   Tumor_KC_Basal  \nP1_Tumor_AAACGGGAGATGTAAC        Epithelial   Tumor_KC_Basal   Tumor_KC_Basal  \nP1_Tumor_AAACGGGAGCTGCAAG        Epithelial     Tumor_KC_Cyc     Tumor_KC_Cyc  \n...                                     ...              ...              ...  \nP10_Normal_TTTGTCAAGAGTCTGG      Epithelial   Normal_KC_Diff   Normal_KC_Diff  \nP10_Normal_TTTGTCAAGTCGTTTG              LC               LC               LC  \nP10_Normal_TTTGTCACAGTGGGAT              LC               LC               LC  \nP10_Normal_TTTGTCATCCAGGGCT              LC               LC               LC  \nP10_Normal_TTTGTCATCGAGGTAG      Epithelial  Normal_KC_Basal  Normal_KC_Basal  \n\n[48164 rows x 7 columns]",
      "text/html": "<div>\n<style scoped>\n    .dataframe tbody tr th:only-of-type {\n        vertical-align: middle;\n    }\n\n    .dataframe tbody tr th {\n        vertical-align: top;\n    }\n\n    .dataframe thead th {\n        text-align: right;\n    }\n</style>\n<table border=\"1\" class=\"dataframe\">\n  <thead>\n    <tr style=\"text-align: right;\">\n      <th></th>\n      <th>nCount_RNA</th>\n      <th>nFeature_RNA</th>\n      <th>patient</th>\n      <th>tum.norm</th>\n      <th>level1_celltype</th>\n      <th>level2_celltype</th>\n      <th>level3_celltype</th>\n    </tr>\n  </thead>\n  <tbody>\n    <tr>\n      <th>P1_Tumor_AAACCTGAGTCAAGCG</th>\n      <td>40856</td>\n      <td>5206</td>\n      <td>P1</td>\n      <td>Tumor</td>\n      <td>Epithelial</td>\n      <td>Tumor_KC_Diff</td>\n      <td>Tumor_KC_Diff</td>\n    </tr>\n    <tr>\n      <th>P1_Tumor_AAACCTGCAAATTGCC</th>\n      <td>15511</td>\n      <td>3468</td>\n      <td>P1</td>\n      <td>Tumor</td>\n      <td>Epithelial</td>\n      <td>Keratinocyte</td>\n      <td>Keratinocyte</td>\n    </tr>\n    <tr>\n      <th>P1_Tumor_AAACCTGGTAGGAGTC</th>\n      <td>24652</td>\n      <td>4154</td>\n      <td>P1</td>\n      <td>Tumor</td>\n      <td>Epithelial</td>\n      <td>Tumor_KC_Basal</td>\n      <td>Tumor_KC_Basal</td>\n    </tr>\n    <tr>\n      <th>P1_Tumor_AAACGGGAGATGTAAC</th>\n      <td>27554</td>\n      <td>4334</td>\n      <td>P1</td>\n      <td>Tumor</td>\n      <td>Epithelial</td>\n      <td>Tumor_KC_Basal</td>\n      <td>Tumor_KC_Basal</td>\n    </tr>\n    <tr>\n      <th>P1_Tumor_AAACGGGAGCTGCAAG</th>\n      <td>24980</td>\n      <td>4822</td>\n      <td>P1</td>\n      <td>Tumor</td>\n      <td>Epithelial</td>\n      <td>Tumor_KC_Cyc</td>\n      <td>Tumor_KC_Cyc</td>\n    </tr>\n    <tr>\n      <th>...</th>\n      <td>...</td>\n      <td>...</td>\n      <td>...</td>\n      <td>...</td>\n      <td>...</td>\n      <td>...</td>\n      <td>...</td>\n    </tr>\n    <tr>\n      <th>P10_Normal_TTTGTCAAGAGTCTGG</th>\n      <td>5585</td>\n      <td>1659</td>\n      <td>P10</td>\n      <td>Normal</td>\n      <td>Epithelial</td>\n      <td>Normal_KC_Diff</td>\n      <td>Normal_KC_Diff</td>\n    </tr>\n    <tr>\n      <th>P10_Normal_TTTGTCAAGTCGTTTG</th>\n      <td>14207</td>\n      <td>3541</td>\n      <td>P10</td>\n      <td>Normal</td>\n      <td>LC</td>\n      <td>LC</td>\n      <td>LC</td>\n    </tr>\n    <tr>\n      <th>P10_Normal_TTTGTCACAGTGGGAT</th>\n      <td>10068</td>\n      <td>2540</td>\n      <td>P10</td>\n      <td>Normal</td>\n      <td>LC</td>\n      <td>LC</td>\n      <td>LC</td>\n    </tr>\n    <tr>\n      <th>P10_Normal_TTTGTCATCCAGGGCT</th>\n      <td>5223</td>\n      <td>1849</td>\n      <td>P10</td>\n      <td>Normal</td>\n      <td>LC</td>\n      <td>LC</td>\n      <td>LC</td>\n    </tr>\n    <tr>\n      <th>P10_Normal_TTTGTCATCGAGGTAG</th>\n      <td>3644</td>\n      <td>1598</td>\n      <td>P10</td>\n      <td>Normal</td>\n      <td>Epithelial</td>\n      <td>Normal_KC_Basal</td>\n      <td>Normal_KC_Basal</td>\n    </tr>\n  </tbody>\n</table>\n<p>48164 rows × 7 columns</p>\n</div>"
     },
     "execution_count": 8,
     "metadata": {},
     "output_type": "execute_result"
    }
   ],
   "source": [
    "scc_annotations_df = pd.read_csv(f'../input/GSE144236_patient_metadata_new.txt', sep='\\t')\n",
    "scc_annotations_df"
   ],
   "metadata": {
    "collapsed": false,
    "ExecuteTime": {
     "end_time": "2024-11-25T17:12:58.664401Z",
     "start_time": "2024-11-25T17:12:58.612117Z"
    }
   },
   "id": "1c9f807e712944c0",
   "execution_count": 8
  },
  {
   "cell_type": "markdown",
   "source": [
    "Add metadata to annData object with counts"
   ],
   "metadata": {
    "collapsed": false
   },
   "id": "59425c0a4d4d6554"
  },
  {
   "cell_type": "code",
   "outputs": [
    {
     "data": {
      "text/plain": "AnnData object with n_obs × n_vars = 48164 × 32738\n    obs: 'nCount_RNA', 'nFeature_RNA', 'patient', 'tum.norm', 'level1_celltype', 'level2_celltype', 'level3_celltype'\n    var: 'gene_name'"
     },
     "execution_count": 9,
     "metadata": {},
     "output_type": "execute_result"
    }
   ],
   "source": [
    "scc_annData.obs_names = scc_annotations_df.index #define .obs names in annData object\n",
    "scc_annData.obs = scc_annData.obs.merge(scc_annotations_df, left_index=True, right_index=True, how='left') #Add metadata\n",
    "scc_annData.var['gene_name'] = gene_names #define gene names in .var\n",
    "scc_annData"
   ],
   "metadata": {
    "collapsed": false,
    "ExecuteTime": {
     "end_time": "2024-11-25T17:14:09.133766Z",
     "start_time": "2024-11-25T17:14:09.115722Z"
    }
   },
   "id": "2a62fe7646afdf69",
   "execution_count": 9
  },
  {
   "cell_type": "code",
   "outputs": [],
   "source": [
    "scc_annData.write_h5ad(\"../input/preprocessed_data/scc_annData.h5ad\") #save annData object"
   ],
   "metadata": {
    "collapsed": false
   },
   "id": "7ef8db49723454e7"
  },
  {
   "cell_type": "markdown",
   "source": [
    "### Filter for Tumor and Healthy Keratinocyes"
   ],
   "metadata": {
    "collapsed": false
   },
   "id": "31d41b157279068d"
  },
  {
   "cell_type": "markdown",
   "source": [
    "Include all Keratinocytes including tumor and non-tumor specific ones from both tumor samples and non-tumor samples"
   ],
   "metadata": {
    "collapsed": false
   },
   "id": "e015b57a7e3baa50"
  },
  {
   "cell_type": "code",
   "outputs": [
    {
     "data": {
      "text/plain": "View of AnnData object with n_obs × n_vars = 18359 × 32738\n    obs: 'nCount_RNA', 'nFeature_RNA', 'patient', 'tum.norm', 'level1_celltype', 'level2_celltype', 'level3_celltype'\n    var: 'gene_name'"
     },
     "execution_count": 57,
     "metadata": {},
     "output_type": "execute_result"
    }
   ],
   "source": [
    "KC_scc = scc_annData[scc_annData.obs['level3_celltype'].isin(['Tumor_KC_Diff', 'Tumor_KC_Basal', 'Tumor_KC_Cyc', 'Normal_KC_Diff', 'Normal_KC_Basal', 'Normal_KC_Cyc', 'TSK' ])] \n",
    "KC_scc"
   ],
   "metadata": {
    "collapsed": false,
    "ExecuteTime": {
     "end_time": "2024-11-26T14:06:48.543061Z",
     "start_time": "2024-11-26T14:06:48.535025Z"
    }
   },
   "id": "4081b62a08e791ab",
   "execution_count": 57
  },
  {
   "cell_type": "code",
   "outputs": [],
   "source": [
    "KC_scc.write_h5ad(\"../input/preprocessed_data/KC_scc_annData.h5ad\")\n"
   ],
   "metadata": {
    "collapsed": false,
    "ExecuteTime": {
     "end_time": "2024-11-26T14:06:52.580061Z",
     "start_time": "2024-11-26T14:06:51.424115Z"
    }
   },
   "id": "cd64cafa934d35b1",
   "execution_count": 58
  },
  {
   "cell_type": "markdown",
   "source": [
    "# 2. In-silico perturbations"
   ],
   "metadata": {
    "collapsed": false
   },
   "id": "71e39534d499f761"
  },
  {
   "cell_type": "markdown",
   "source": [
    "Load preprocessed dataset with KC cells and select for patient 2"
   ],
   "metadata": {
    "collapsed": false
   },
   "id": "271bcc5b9d67eb6f"
  },
  {
   "cell_type": "code",
   "outputs": [],
   "source": [
    "KC_scc = sc.read_h5ad(\"../input/preprocessed_data/KC_scc_annData.h5ad\") \n",
    "KC_scc_p2 = KC_scc[KC_scc.obs['patient']=='P2'] #Reduce data to only patient2 data to manage computational constraints"
   ],
   "metadata": {
    "collapsed": false,
    "ExecuteTime": {
     "end_time": "2024-11-26T16:45:25.210698Z",
     "start_time": "2024-11-26T16:45:25.000754Z"
    }
   },
   "id": "b86872c837ef4659",
   "execution_count": 6
  },
  {
   "cell_type": "markdown",
   "source": [
    "Add logNormal noise to dataset"
   ],
   "metadata": {
    "collapsed": false
   },
   "id": "a9680c0cb4209c92"
  },
  {
   "cell_type": "code",
   "outputs": [
    {
     "name": "stderr",
     "output_type": "stream",
     "text": [
      "/Users/mo2016/Documents/personal_projects/SCC_helical/scc_helical/functions.py:12: RuntimeWarning: invalid value encountered in sqrt\n",
      "  gene_stds = np.sqrt((anndata.X.power(2).mean(axis=0) - np.power(gene_means, 2))).flatten()  # Sparse std computation\n",
      "/Users/mo2016/Library/Caches/pypoetry/virtualenvs/scc-helical--RZZoshj-py3.11/lib/python3.11/site-packages/scipy/sparse/_data.py:73: RuntimeWarning: invalid value encountered in cast\n",
      "  self.data.astype(dtype, casting=casting, copy=True),\n"
     ]
    }
   ],
   "source": [
    "scc_p2_noise = add_noise(KC_scc_p2, noise_distribution='logNormal',  scaling_factor=1)"
   ],
   "metadata": {
    "collapsed": false,
    "ExecuteTime": {
     "end_time": "2024-11-26T16:45:38.797400Z",
     "start_time": "2024-11-26T16:45:25.374238Z"
    }
   },
   "id": "a2d7dc36a8bb8d6f",
   "execution_count": 7
  },
  {
   "cell_type": "markdown",
   "source": [
    "Separate datasets into Tumor, Normal and TSKs (TSK inside tumor)"
   ],
   "metadata": {
    "collapsed": false
   },
   "id": "39ba105e56ffe59e"
  },
  {
   "cell_type": "code",
   "outputs": [],
   "source": [
    "scc_noise_normal = scc_p2_noise[scc_p2_noise.obs['tum.norm']=='Normal'] #dataset with all cells from normal sample\n",
    "scc_noise_tumor = scc_p2_noise[scc_p2_noise.obs['tum.norm']=='Tumor'] #dataset with all cells from tumor sample\n",
    "scc_noise_tumor_TSK = scc_noise_tumor[scc_noise_tumor.obs['level3_celltype']=='TSK'] #dataset with all TSK cells. This dataset will be used for perturbation"
   ],
   "metadata": {
    "collapsed": false,
    "ExecuteTime": {
     "end_time": "2024-11-26T16:51:51.252840Z",
     "start_time": "2024-11-26T16:51:51.243513Z"
    }
   },
   "id": "4118cd5777b97fbc",
   "execution_count": 11
  },
  {
   "cell_type": "markdown",
   "source": [
    "Simulate gene deletion of cancer relevant genes to TSK cells understand perturbation effects on TSK oncogenicity.\n"
   ],
   "metadata": {
    "collapsed": false
   },
   "id": "8a408e166ef8b1ad"
  },
  {
   "cell_type": "code",
   "outputs": [
    {
     "name": "stderr",
     "output_type": "stream",
     "text": [
      "/Users/mo2016/Library/Caches/pypoetry/virtualenvs/scc-helical--RZZoshj-py3.11/lib/python3.11/site-packages/scipy/sparse/_index.py:151: SparseEfficiencyWarning: Changing the sparsity structure of a csr_matrix is expensive. lil_matrix is more efficient.\n",
      "  self._set_arrayXarray(i, j, x)\n"
     ]
    }
   ],
   "source": [
    "scc_gene_perturbations = {'ITGB1':'deletion', 'FERMT1':'deletion', 'CD151':'deletion', 'ARPC2':'deletion', 'HSP90B1':'deletion'} #define knockdown\n",
    "scc_noise_tumor_TSK_knockdown = add_perturbations(scc_noise_tumor_TSK,scc_p2_noise, scc_gene_perturbations) #apply deletions\n",
    "scc_noise_tumor_TSK_knockdown.obs['tum.norm'] = 'Tumor_knockdown' #modify tumor label to account for knockdown"
   ],
   "metadata": {
    "collapsed": false,
    "ExecuteTime": {
     "end_time": "2024-11-26T16:53:55.069152Z",
     "start_time": "2024-11-26T16:53:55.044972Z"
    }
   },
   "id": "6922d1afece1f30e",
   "execution_count": 12
  },
  {
   "cell_type": "markdown",
   "source": [
    "Subsample tumor and normal datasets (n=100) to manage computational constraints and merge 4 datasets (tumor, normal and TSK and TSK perturbed)  "
   ],
   "metadata": {
    "collapsed": false
   },
   "id": "3cc1ca8d8a85dbe"
  },
  {
   "cell_type": "code",
   "outputs": [],
   "source": [
    "shuffled_indices = np.random.permutation(scc_noise_normal.n_obs)\n",
    "scc_noise_normal = scc_noise_normal[shuffled_indices[:100]]\n",
    "\n",
    "shuffled_indices = np.random.permutation(scc_noise_tumor.n_obs)\n",
    "scc_noise_tumor = scc_noise_tumor[shuffled_indices[:100]]\n",
    "\n",
    "scc_noise_perturbed_merged= concat([scc_noise_tumor_TSK_knockdown, scc_noise_tumor_TSK, scc_noise_normal, scc_noise_tumor ], axis=0, join='outer') #merge three datasets (tumor, normal and TSK)\n",
    "scc_noise_perturbed_merged.var['gene_name'] = scc_noise_perturbed_merged.var_names\n",
    "scc_noise_perturbed_merged"
   ],
   "metadata": {
    "collapsed": false,
    "ExecuteTime": {
     "end_time": "2024-11-26T16:54:42.677055Z",
     "start_time": "2024-11-26T16:54:42.668849Z"
    }
   },
   "id": "101c1bdf633b94a6",
   "execution_count": 15
  },
  {
   "cell_type": "markdown",
   "source": [
    "Save \"perturbed\" dataset"
   ],
   "metadata": {
    "collapsed": false
   },
   "id": "3738ed80e871638e"
  },
  {
   "cell_type": "code",
   "outputs": [
    {
     "name": "stderr",
     "output_type": "stream",
     "text": [
      "... storing 'tum.norm' as categorical\n"
     ]
    }
   ],
   "source": [
    "scc_noise_perturbed_merged.write_h5ad(f\"../output/perturbed_noise_datasets/KC_tumor_TSKknockdown_annData_{len(scc_noise_perturbed_merged)}_noise1.h5ad\")\n"
   ],
   "metadata": {
    "collapsed": false,
    "ExecuteTime": {
     "end_time": "2024-11-26T15:21:25.822155Z",
     "start_time": "2024-11-26T15:21:25.768229Z"
    }
   },
   "id": "f0a103143cd4b96d",
   "execution_count": 10
  },
  {
   "cell_type": "markdown",
   "source": [
    "Delete heavy variables to avoid overloading of RAM"
   ],
   "metadata": {
    "collapsed": false
   },
   "id": "894403e2b5791715"
  },
  {
   "cell_type": "code",
   "outputs": [],
   "source": [
    "del KC_scc\n",
    "del scc_gene_perturbations\n",
    "del scc_noise_normal\n",
    "del scc_noise_tumor\n",
    "del scc_noise_tumor_TSK\n",
    "del scc_noise_tumor_TSK_knockdown\n",
    "del KC_scc_p2\n",
    "del scc_p2_noise\n",
    "del shuffled_indices\n"
   ],
   "metadata": {
    "collapsed": false,
    "ExecuteTime": {
     "end_time": "2024-11-26T15:21:25.822779Z",
     "start_time": "2024-11-26T15:21:25.818627Z"
    }
   },
   "id": "a4358c51550843f2",
   "execution_count": 11
  },
  {
   "cell_type": "markdown",
   "source": [
    "# 3. Embeddings with Geneformer_V2_Cancer"
   ],
   "metadata": {
    "collapsed": false
   },
   "id": "4c5cfdcf585f368f"
  },
  {
   "cell_type": "markdown",
   "source": [
    "Define model to use: geneformer fine tuned with cancer datasets and produce embeddings for \"perturbed\" dataset"
   ],
   "metadata": {
    "collapsed": false
   },
   "id": "85e40ee25bc1722f"
  },
  {
   "cell_type": "code",
   "outputs": [
    {
     "name": "stderr",
     "output_type": "stream",
     "text": [
      "INFO:helical.utils.downloader:File: '/Users/mo2016/.cache/helical/models/geneformer/v2/gene_median_dictionary.pkl' exists already. File is not overwritten and nothing is downloaded.\n",
      "INFO:helical.utils.downloader:File saved to: '/Users/mo2016/.cache/helical/models/geneformer/v2/gene_median_dictionary.pkl'\n",
      "INFO:helical.utils.downloader:File: '/Users/mo2016/.cache/helical/models/geneformer/v2/token_dictionary.pkl' exists already. File is not overwritten and nothing is downloaded.\n",
      "INFO:helical.utils.downloader:File saved to: '/Users/mo2016/.cache/helical/models/geneformer/v2/token_dictionary.pkl'\n",
      "INFO:helical.utils.downloader:File: '/Users/mo2016/.cache/helical/models/geneformer/v2/ensembl_mapping_dict.pkl' exists already. File is not overwritten and nothing is downloaded.\n",
      "INFO:helical.utils.downloader:File saved to: '/Users/mo2016/.cache/helical/models/geneformer/v2/ensembl_mapping_dict.pkl'\n",
      "INFO:helical.utils.downloader:File: '/Users/mo2016/.cache/helical/models/geneformer/v2/gf-12L-95M-i4096-CLcancer/config.json' exists already. File is not overwritten and nothing is downloaded.\n",
      "INFO:helical.utils.downloader:File saved to: '/Users/mo2016/.cache/helical/models/geneformer/v2/gf-12L-95M-i4096-CLcancer/config.json'\n",
      "INFO:helical.utils.downloader:File: '/Users/mo2016/.cache/helical/models/geneformer/v2/gf-12L-95M-i4096-CLcancer/training_args.bin' exists already. File is not overwritten and nothing is downloaded.\n",
      "INFO:helical.utils.downloader:File saved to: '/Users/mo2016/.cache/helical/models/geneformer/v2/gf-12L-95M-i4096-CLcancer/training_args.bin'\n",
      "INFO:helical.utils.downloader:File: '/Users/mo2016/.cache/helical/models/geneformer/v2/gf-12L-95M-i4096-CLcancer/generation_config.json' exists already. File is not overwritten and nothing is downloaded.\n",
      "INFO:helical.utils.downloader:File saved to: '/Users/mo2016/.cache/helical/models/geneformer/v2/gf-12L-95M-i4096-CLcancer/generation_config.json'\n",
      "INFO:helical.utils.downloader:File: '/Users/mo2016/.cache/helical/models/geneformer/v2/gf-12L-95M-i4096-CLcancer/model.safetensors' exists already. File is not overwritten and nothing is downloaded.\n",
      "INFO:helical.utils.downloader:File saved to: '/Users/mo2016/.cache/helical/models/geneformer/v2/gf-12L-95M-i4096-CLcancer/model.safetensors'\n",
      "INFO:helical.models.geneformer.model:Model finished initializing.\n"
     ]
    },
    {
     "ename": "NameError",
     "evalue": "name 'scc_noise_perturbed_merged' is not defined",
     "output_type": "error",
     "traceback": [
      "\u001B[0;31m---------------------------------------------------------------------------\u001B[0m",
      "\u001B[0;31mNameError\u001B[0m                                 Traceback (most recent call last)",
      "Cell \u001B[0;32mIn[16], line 5\u001B[0m\n\u001B[1;32m      2\u001B[0m geneformer_config_v2_cancer \u001B[38;5;241m=\u001B[39m GeneformerConfig(model_name\u001B[38;5;241m=\u001B[39m\u001B[38;5;124m\"\u001B[39m\u001B[38;5;124mgf-12L-95M-i4096-CLcancer\u001B[39m\u001B[38;5;124m\"\u001B[39m, batch_size\u001B[38;5;241m=\u001B[39m\u001B[38;5;241m1\u001B[39m, device\u001B[38;5;241m=\u001B[39mdevice) \u001B[38;5;66;03m#Cancer fine-tuned geneformer\u001B[39;00m\n\u001B[1;32m      3\u001B[0m geneformer_v2_cancer\u001B[38;5;241m=\u001B[39m Geneformer(configurer\u001B[38;5;241m=\u001B[39mgeneformer_config_v2_cancer) \n\u001B[0;32m----> 5\u001B[0m cancer_dataset \u001B[38;5;241m=\u001B[39m geneformer_v2_cancer\u001B[38;5;241m.\u001B[39mprocess_data(\u001B[43mscc_noise_perturbed_merged\u001B[49m, gene_names\u001B[38;5;241m=\u001B[39m\u001B[38;5;124m\"\u001B[39m\u001B[38;5;124mgene_name\u001B[39m\u001B[38;5;124m\"\u001B[39m) \u001B[38;5;66;03m#process dataset for geneformer use (normalising, ranking...)\u001B[39;00m\n\u001B[1;32m      6\u001B[0m cancer_embeddings \u001B[38;5;241m=\u001B[39m geneformer_v2_cancer\u001B[38;5;241m.\u001B[39mget_embeddings(cancer_dataset) \u001B[38;5;66;03m#get embeddings (go from 32738 dimensions (genes) to 512 (embeddings)\u001B[39;00m\n\u001B[1;32m      7\u001B[0m \u001B[38;5;28mprint\u001B[39m(\u001B[38;5;124m\"\u001B[39m\u001B[38;5;124mCancer-tuned model embeddings shape:\u001B[39m\u001B[38;5;124m\"\u001B[39m, cancer_embeddings\u001B[38;5;241m.\u001B[39mshape)\n",
      "\u001B[0;31mNameError\u001B[0m: name 'scc_noise_perturbed_merged' is not defined"
     ]
    }
   ],
   "source": [
    "device='mps' #use mac mps for faster inference\n",
    "geneformer_config_v2_cancer = GeneformerConfig(model_name=\"gf-12L-95M-i4096-CLcancer\", batch_size=1, device=device) #Cancer fine-tuned geneformer\n",
    "geneformer_v2_cancer= Geneformer(configurer=geneformer_config_v2_cancer) \n",
    "\n",
    "cancer_dataset = geneformer_v2_cancer.process_data(scc_noise_perturbed_merged, gene_names=\"gene_name\") #process dataset for geneformer use (normalising, ranking...)\n",
    "cancer_embeddings = geneformer_v2_cancer.get_embeddings(cancer_dataset) #get embeddings (go from 32738 dimensions (genes) to 512 (embeddings)\n",
    "print(\"Cancer-tuned model embeddings shape:\", cancer_embeddings.shape)"
   ],
   "metadata": {
    "collapsed": false,
    "ExecuteTime": {
     "end_time": "2024-11-26T18:47:59.898946Z",
     "start_time": "2024-11-26T18:47:58.911954Z"
    }
   },
   "id": "ac664df49e3321f5",
   "execution_count": 16
  },
  {
   "cell_type": "code",
   "outputs": [],
   "source": [
    "np.save(f\"../output/embeddings/KC_tumor_TSKknockdown_embeddings_{len(scc_noise_perturbed_merged)}_noise1.npy\", cancer_embeddings)"
   ],
   "metadata": {
    "collapsed": false,
    "ExecuteTime": {
     "end_time": "2024-11-26T15:23:56.773701Z",
     "start_time": "2024-11-26T15:23:56.724329Z"
    }
   },
   "id": "5a442385cd286015",
   "execution_count": 14
  }
 ],
 "metadata": {
  "kernelspec": {
   "display_name": "Python 3",
   "language": "python",
   "name": "python3"
  },
  "language_info": {
   "codemirror_mode": {
    "name": "ipython",
    "version": 2
   },
   "file_extension": ".py",
   "mimetype": "text/x-python",
   "name": "python",
   "nbconvert_exporter": "python",
   "pygments_lexer": "ipython2",
   "version": "2.7.6"
  }
 },
 "nbformat": 4,
 "nbformat_minor": 5
}
