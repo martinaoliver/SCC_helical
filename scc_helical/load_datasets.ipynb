{
 "cells": [
  {
   "cell_type": "code",
   "outputs": [],
   "source": [
    "import pandas as pd\n",
    "annotations_df = pd.read_csv(f'../input/GSE144236_patient_metadata_new.txt', sep='\\t')"
   ],
   "metadata": {
    "collapsed": false,
    "ExecuteTime": {
     "end_time": "2024-11-24T20:20:26.562185Z",
     "start_time": "2024-11-24T20:20:26.018693Z"
    }
   },
   "id": "6ab2a7261fa8291c",
   "execution_count": 1
  },
  {
   "cell_type": "code",
   "outputs": [
    {
     "data": {
      "text/plain": "                             nCount_RNA  nFeature_RNA patient tum.norm  \\\nP1_Tumor_AAACCTGAGTCAAGCG         40856          5206      P1    Tumor   \nP1_Tumor_AAACCTGCAAATTGCC         15511          3468      P1    Tumor   \nP1_Tumor_AAACCTGGTAGGAGTC         24652          4154      P1    Tumor   \nP1_Tumor_AAACGGGAGATGTAAC         27554          4334      P1    Tumor   \nP1_Tumor_AAACGGGAGCTGCAAG         24980          4822      P1    Tumor   \n...                                 ...           ...     ...      ...   \nP10_Normal_TTTGTCAAGAGTCTGG        5585          1659     P10   Normal   \nP10_Normal_TTTGTCAAGTCGTTTG       14207          3541     P10   Normal   \nP10_Normal_TTTGTCACAGTGGGAT       10068          2540     P10   Normal   \nP10_Normal_TTTGTCATCCAGGGCT        5223          1849     P10   Normal   \nP10_Normal_TTTGTCATCGAGGTAG        3644          1598     P10   Normal   \n\n                            level1_celltype  level2_celltype  level3_celltype  \nP1_Tumor_AAACCTGAGTCAAGCG        Epithelial    Tumor_KC_Diff    Tumor_KC_Diff  \nP1_Tumor_AAACCTGCAAATTGCC        Epithelial     Keratinocyte     Keratinocyte  \nP1_Tumor_AAACCTGGTAGGAGTC        Epithelial   Tumor_KC_Basal   Tumor_KC_Basal  \nP1_Tumor_AAACGGGAGATGTAAC        Epithelial   Tumor_KC_Basal   Tumor_KC_Basal  \nP1_Tumor_AAACGGGAGCTGCAAG        Epithelial     Tumor_KC_Cyc     Tumor_KC_Cyc  \n...                                     ...              ...              ...  \nP10_Normal_TTTGTCAAGAGTCTGG      Epithelial   Normal_KC_Diff   Normal_KC_Diff  \nP10_Normal_TTTGTCAAGTCGTTTG              LC               LC               LC  \nP10_Normal_TTTGTCACAGTGGGAT              LC               LC               LC  \nP10_Normal_TTTGTCATCCAGGGCT              LC               LC               LC  \nP10_Normal_TTTGTCATCGAGGTAG      Epithelial  Normal_KC_Basal  Normal_KC_Basal  \n\n[48164 rows x 7 columns]",
      "text/html": "<div>\n<style scoped>\n    .dataframe tbody tr th:only-of-type {\n        vertical-align: middle;\n    }\n\n    .dataframe tbody tr th {\n        vertical-align: top;\n    }\n\n    .dataframe thead th {\n        text-align: right;\n    }\n</style>\n<table border=\"1\" class=\"dataframe\">\n  <thead>\n    <tr style=\"text-align: right;\">\n      <th></th>\n      <th>nCount_RNA</th>\n      <th>nFeature_RNA</th>\n      <th>patient</th>\n      <th>tum.norm</th>\n      <th>level1_celltype</th>\n      <th>level2_celltype</th>\n      <th>level3_celltype</th>\n    </tr>\n  </thead>\n  <tbody>\n    <tr>\n      <th>P1_Tumor_AAACCTGAGTCAAGCG</th>\n      <td>40856</td>\n      <td>5206</td>\n      <td>P1</td>\n      <td>Tumor</td>\n      <td>Epithelial</td>\n      <td>Tumor_KC_Diff</td>\n      <td>Tumor_KC_Diff</td>\n    </tr>\n    <tr>\n      <th>P1_Tumor_AAACCTGCAAATTGCC</th>\n      <td>15511</td>\n      <td>3468</td>\n      <td>P1</td>\n      <td>Tumor</td>\n      <td>Epithelial</td>\n      <td>Keratinocyte</td>\n      <td>Keratinocyte</td>\n    </tr>\n    <tr>\n      <th>P1_Tumor_AAACCTGGTAGGAGTC</th>\n      <td>24652</td>\n      <td>4154</td>\n      <td>P1</td>\n      <td>Tumor</td>\n      <td>Epithelial</td>\n      <td>Tumor_KC_Basal</td>\n      <td>Tumor_KC_Basal</td>\n    </tr>\n    <tr>\n      <th>P1_Tumor_AAACGGGAGATGTAAC</th>\n      <td>27554</td>\n      <td>4334</td>\n      <td>P1</td>\n      <td>Tumor</td>\n      <td>Epithelial</td>\n      <td>Tumor_KC_Basal</td>\n      <td>Tumor_KC_Basal</td>\n    </tr>\n    <tr>\n      <th>P1_Tumor_AAACGGGAGCTGCAAG</th>\n      <td>24980</td>\n      <td>4822</td>\n      <td>P1</td>\n      <td>Tumor</td>\n      <td>Epithelial</td>\n      <td>Tumor_KC_Cyc</td>\n      <td>Tumor_KC_Cyc</td>\n    </tr>\n    <tr>\n      <th>...</th>\n      <td>...</td>\n      <td>...</td>\n      <td>...</td>\n      <td>...</td>\n      <td>...</td>\n      <td>...</td>\n      <td>...</td>\n    </tr>\n    <tr>\n      <th>P10_Normal_TTTGTCAAGAGTCTGG</th>\n      <td>5585</td>\n      <td>1659</td>\n      <td>P10</td>\n      <td>Normal</td>\n      <td>Epithelial</td>\n      <td>Normal_KC_Diff</td>\n      <td>Normal_KC_Diff</td>\n    </tr>\n    <tr>\n      <th>P10_Normal_TTTGTCAAGTCGTTTG</th>\n      <td>14207</td>\n      <td>3541</td>\n      <td>P10</td>\n      <td>Normal</td>\n      <td>LC</td>\n      <td>LC</td>\n      <td>LC</td>\n    </tr>\n    <tr>\n      <th>P10_Normal_TTTGTCACAGTGGGAT</th>\n      <td>10068</td>\n      <td>2540</td>\n      <td>P10</td>\n      <td>Normal</td>\n      <td>LC</td>\n      <td>LC</td>\n      <td>LC</td>\n    </tr>\n    <tr>\n      <th>P10_Normal_TTTGTCATCCAGGGCT</th>\n      <td>5223</td>\n      <td>1849</td>\n      <td>P10</td>\n      <td>Normal</td>\n      <td>LC</td>\n      <td>LC</td>\n      <td>LC</td>\n    </tr>\n    <tr>\n      <th>P10_Normal_TTTGTCATCGAGGTAG</th>\n      <td>3644</td>\n      <td>1598</td>\n      <td>P10</td>\n      <td>Normal</td>\n      <td>Epithelial</td>\n      <td>Normal_KC_Basal</td>\n      <td>Normal_KC_Basal</td>\n    </tr>\n  </tbody>\n</table>\n<p>48164 rows × 7 columns</p>\n</div>"
     },
     "execution_count": 2,
     "metadata": {},
     "output_type": "execute_result"
    }
   ],
   "source": [
    "annotations_df"
   ],
   "metadata": {
    "collapsed": false,
    "ExecuteTime": {
     "end_time": "2024-11-24T20:20:28.675879Z",
     "start_time": "2024-11-24T20:20:28.649296Z"
    }
   },
   "id": "b0df4d051430b03d",
   "execution_count": 2
  },
  {
   "cell_type": "code",
   "outputs": [],
   "source": [
    "import pandas as pd\n",
    "file_path = \"../input/GSE144236_cSCC_counts.txt\"\n",
    "counts_df = pd.read_csv(file_path, sep=\"\\t\", header=0)  # Use the first line as header\n"
   ],
   "metadata": {
    "collapsed": false,
    "ExecuteTime": {
     "end_time": "2024-11-24T21:16:07.088770Z",
     "start_time": "2024-11-24T21:10:18.163499Z"
    }
   },
   "id": "c1a28641455ffcef",
   "execution_count": 1
  },
  {
   "cell_type": "code",
   "outputs": [
    {
     "ename": "NameError",
     "evalue": "name 'counts_df' is not defined",
     "output_type": "error",
     "traceback": [
      "\u001B[0;31m---------------------------------------------------------------------------\u001B[0m",
      "\u001B[0;31mNameError\u001B[0m                                 Traceback (most recent call last)",
      "Cell \u001B[0;32mIn[3], line 1\u001B[0m\n\u001B[0;32m----> 1\u001B[0m \u001B[43mcounts_df\u001B[49m\n",
      "\u001B[0;31mNameError\u001B[0m: name 'counts_df' is not defined"
     ]
    }
   ],
   "source": [
    "counts_df"
   ],
   "metadata": {
    "collapsed": false,
    "ExecuteTime": {
     "end_time": "2024-11-25T10:54:48.841122Z",
     "start_time": "2024-11-25T10:54:48.702464Z"
    }
   },
   "id": "d2f8d18c5559bbc",
   "execution_count": 3
  },
  {
   "cell_type": "code",
   "outputs": [],
   "source": [],
   "metadata": {
    "collapsed": false
   },
   "id": "4b26a8156ab11d9b"
  }
 ],
 "metadata": {
  "kernelspec": {
   "display_name": "Python 3",
   "language": "python",
   "name": "python3"
  },
  "language_info": {
   "codemirror_mode": {
    "name": "ipython",
    "version": 2
   },
   "file_extension": ".py",
   "mimetype": "text/x-python",
   "name": "python",
   "nbconvert_exporter": "python",
   "pygments_lexer": "ipython2",
   "version": "2.7.6"
  }
 },
 "nbformat": 4,
 "nbformat_minor": 5
}
