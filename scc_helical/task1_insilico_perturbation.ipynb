{
 "cells": [
  {
   "cell_type": "code",
   "outputs": [],
   "source": [
    "from datasets import load_dataset\n",
    "from helical.utils import get_anndata_from_hf_dataset\n",
    "from scipy.sparse import csr_matrix\n",
    "import numpy as np\n",
    "import matplotlib.pyplot as plt\n"
   ],
   "metadata": {
    "collapsed": false,
    "ExecuteTime": {
     "end_time": "2024-11-27T08:17:09.212692Z",
     "start_time": "2024-11-27T08:17:09.205985Z"
    }
   },
   "id": "2356d7f6dea8fb5",
   "execution_count": 44
  },
  {
   "cell_type": "markdown",
   "source": [
    "## 1. Load test datasets to apply perturbations"
   ],
   "metadata": {
    "collapsed": false
   },
   "id": "aeb61dcd26f74ee8"
  },
  {
   "cell_type": "code",
   "outputs": [
    {
     "data": {
      "text/plain": "Generating train split:   0%|          | 0/25344 [00:00<?, ? examples/s]",
      "application/vnd.jupyter.widget-view+json": {
       "version_major": 2,
       "version_minor": 0,
       "model_id": "c295471283f04ed692a2dcdf6cec957a"
      }
     },
     "metadata": {},
     "output_type": "display_data"
    },
    {
     "data": {
      "text/plain": "Generating test split:   0%|          | 0/6336 [00:00<?, ? examples/s]",
      "application/vnd.jupyter.widget-view+json": {
       "version_major": 2,
       "version_minor": 0,
       "model_id": "2a85266650994110b952cd9648a84083"
      }
     },
     "metadata": {},
     "output_type": "display_data"
    },
    {
     "name": "stderr",
     "output_type": "stream",
     "text": [
      "/Users/mo2016/Library/Caches/pypoetry/virtualenvs/scc-helical--RZZoshj-py3.11/lib/python3.11/site-packages/anndata/_core/aligned_df.py:67: ImplicitModificationWarning: Transforming to str index.\n",
      "  warnings.warn(\"Transforming to str index.\", ImplicitModificationWarning)\n"
     ]
    },
    {
     "data": {
      "text/plain": "View of AnnData object with n_obs × n_vars = 100 × 37318\n    obs: 'LVL1', 'LVL2', 'LVL3'\n    var: 'gene_name'"
     },
     "execution_count": 45,
     "metadata": {},
     "output_type": "execute_result"
    }
   ],
   "source": [
    "yolksac_hf_dataset = load_dataset(\"helical-ai/yolksac_human\", trust_remote_code=True, download_mode=\"reuse_cache_if_exists\") #load hf_dataset from helical's profile in hf\n",
    "yolksac_anndata = get_anndata_from_hf_dataset(yolksac_hf_dataset[\"train\"])[:100] #generate annData object from huggingface dataset\n",
    "yolksac_anndata"
   ],
   "metadata": {
    "collapsed": false,
    "ExecuteTime": {
     "end_time": "2024-11-27T08:17:43.083102Z",
     "start_time": "2024-11-27T08:17:09.476859Z"
    }
   },
   "id": "47f253de8d2cc436",
   "execution_count": 45
  },
  {
   "cell_type": "markdown",
   "source": [
    "## 2. Add biologically relevant noise "
   ],
   "metadata": {
    "collapsed": false
   },
   "id": "3f510388b3662c6f"
  },
  {
   "cell_type": "code",
   "outputs": [],
   "source": [
    "def add_noise(anndata, noise_distribution='logNormal', scaling_factor=1):\n",
    "    # Compute mean for each gene\n",
    "    gene_means = np.array(anndata.X.mean(axis=0)).flatten()\n",
    "    gene_means = np.where(gene_means == 0, 1e-6, gene_means)  # change zeros by 1e-6 to avoid division errors\n",
    "\n",
    "    # Compute std for each gene\n",
    "    gene_stds = np.sqrt((anndata.X.power(2).mean(axis=0) - np.power(gene_means, 2))).flatten()  # Sparse std computation\n",
    "\n",
    "    # Add noise gaussian noise\n",
    "    if noise_distribution == 'normal':\n",
    "        noise = np.abs(np.random.normal(loc=1, scale=scaling_factor * gene_stds,\n",
    "                                        size=anndata.X.shape))  # abs used to avoid negative values\n",
    "\n",
    "    # Add logNormal noise (avoids negative numbers)\n",
    "    elif noise_distribution == 'logNormal':\n",
    "        gene_cv = gene_stds / gene_means  # Coefficient of variation used in logNormal\n",
    "        noise = np.random.lognormal(mean=0, sigma=scaling_factor * gene_cv, size=anndata.X.shape)\n",
    "\n",
    "    # both distributions have a scaling factor to introduce more or less noise.\n",
    "\n",
    "    # Apply noise to the sparse matrix\n",
    "    anndata.X = anndata.X.multiply(noise)  # Element-wise multiplication for sparse matrices\n",
    "    anndata.X = csr_matrix(np.round(anndata.X).astype(int))  # Ensure the result is a sparse integer matrix\n",
    "    assert not np.any(anndata.X.toarray() < 0)  # test to check no negative numbers generated\n",
    "\n",
    "    return anndata\n"
   ],
   "metadata": {
    "collapsed": false,
    "ExecuteTime": {
     "end_time": "2024-11-27T08:17:43.089320Z",
     "start_time": "2024-11-27T08:17:43.086164Z"
    }
   },
   "id": "db88d6d5da414ab0",
   "execution_count": 46
  },
  {
   "cell_type": "code",
   "outputs": [
    {
     "name": "stderr",
     "output_type": "stream",
     "text": [
      "/var/folders/bt/1cqt3cks1sl9cz4dfwlyxhpm0000gn/T/ipykernel_4528/581709919.py:7: RuntimeWarning: invalid value encountered in sqrt\n",
      "  gene_stds = np.sqrt((anndata.X.power(2).mean(axis=0) - np.power(gene_means, 2))).flatten()  # Sparse std computation\n"
     ]
    }
   ],
   "source": [
    "yolksac_anndata_noise = add_noise(yolksac_anndata, noise_distribution='logNormal', scaling_factor=1)"
   ],
   "metadata": {
    "collapsed": false,
    "ExecuteTime": {
     "end_time": "2024-11-27T08:17:46.590909Z",
     "start_time": "2024-11-27T08:17:43.088525Z"
    }
   },
   "id": "2965dce0a903415f",
   "execution_count": 47
  },
  {
   "cell_type": "code",
   "outputs": [
    {
     "data": {
      "text/plain": "<Figure size 800x600 with 1 Axes>",
      "image/png": "[encoded data removed]"
     },
     "metadata": {},
     "output_type": "display_data"
    }
   ],
   "source": [
    "# Generate a lognormal distribution\n",
    "mu, sigma = 0, 0.5  # Mean and standard deviation of the underlying normal distribution\n",
    "sample_size = 10000  # Number of samples\n",
    "scaling_factor=1\n",
    "# Generate random samples\n",
    "data = np.random.lognormal(mean=mu, sigma=scaling_factor*sigma, size=sample_size)\n",
    "mean_value = np.mean(data)\n",
    "\n",
    "# Plot the distribution\n",
    "plt.figure(figsize=(8, 6))\n",
    "plt.hist(data, bins=50, density=True, color='skyblue', alpha=0.7, edgecolor='black')\n",
    "plt.axvline(mean_value, color='red', linestyle='--', linewidth=2, label=f'Mean: {mean_value:.2f}')\n",
    "plt.title('Lognormal Distribution', fontsize=16)\n",
    "plt.xlabel('Value', fontsize=14)\n",
    "plt.ylabel('Density', fontsize=14)\n",
    "plt.grid(alpha=0.3)\n",
    "plt.show()\n"
   ],
   "metadata": {
    "collapsed": false,
    "ExecuteTime": {
     "end_time": "2024-11-27T08:17:46.687551Z",
     "start_time": "2024-11-27T08:17:46.593778Z"
    }
   },
   "id": "4328cdffdeaf35ff",
   "execution_count": 48
  },
  {
   "cell_type": "markdown",
   "source": [
    "## 3. Add perturbations\n"
   ],
   "metadata": {
    "collapsed": false
   },
   "id": "a18560f29ca8881e"
  },
  {
   "cell_type": "code",
   "outputs": [],
   "source": [
    "# This function takes as inputs anndata (dataset which will be subjected to gene perturbations) and the specified perturbation\n",
    "# Both upregulation, downregulation, deletino and gene saturation can be simulated\n",
    "# Multiple gene perturbations can be simulated\n",
    "def add_perturbations(anndata_subset, anndata, gene_perturbations):\n",
    "    anndata_subset_perturbed = anndata_subset.copy()\n",
    "    for gene, perturbation in gene_perturbations.items():\n",
    "        if perturbation == 'down':\n",
    "            min_value = anndata[:, gene].X.min()\n",
    "            anndata_subset_perturbed[:, gene].X = int(min_value)\n",
    "\n",
    "        if perturbation == 'up':\n",
    "            max_value = anndata[:, gene].X.max()\n",
    "            anndata_subset_perturbed[:, gene].X = int(max_value)\n",
    "\n",
    "        if perturbation == 'deletion':\n",
    "            anndata_subset_perturbed[:, gene].X = 0\n",
    "\n",
    "        if perturbation == 'saturation':\n",
    "            anndata_subset_perturbed[:, gene].X = 1000\n",
    "    return anndata_subset_perturbed\n",
    "\n",
    "\n"
   ],
   "metadata": {
    "collapsed": false,
    "ExecuteTime": {
     "end_time": "2024-11-27T08:17:46.690751Z",
     "start_time": "2024-11-27T08:17:46.686142Z"
    }
   },
   "id": "b1394da0971b652",
   "execution_count": 49
  },
  {
   "cell_type": "code",
   "outputs": [
    {
     "name": "stderr",
     "output_type": "stream",
     "text": [
      "/Users/mo2016/Library/Caches/pypoetry/virtualenvs/scc-helical--RZZoshj-py3.11/lib/python3.11/site-packages/scipy/sparse/_index.py:151: SparseEfficiencyWarning: Changing the sparsity structure of a csr_matrix is expensive. lil_matrix is more efficient.\n",
      "  self._set_arrayXarray(i, j, x)\n"
     ]
    },
    {
     "data": {
      "text/plain": "AnnData object with n_obs × n_vars = 100 × 37318\n    obs: 'LVL1', 'LVL2', 'LVL3'\n    var: 'gene_name'"
     },
     "execution_count": 50,
     "metadata": {},
     "output_type": "execute_result"
    }
   ],
   "source": [
    "scc_gene_perturbations = {'ITGB1':'up', 'FERMT1':'down', 'CD151':'deletion', 'ARPC2':'saturation'} #Different genes with different types of perturbations\n",
    "add_perturbations(yolksac_anndata, yolksac_anndata, scc_gene_perturbations)\n"
   ],
   "metadata": {
    "collapsed": false,
    "ExecuteTime": {
     "end_time": "2024-11-27T08:17:46.737491Z",
     "start_time": "2024-11-27T08:17:46.692284Z"
    }
   },
   "id": "670e24daa40332c1",
   "execution_count": 50
  },
  {
   "cell_type": "markdown",
   "source": [
    "# 4. Add dropouts"
   ],
   "metadata": {
    "collapsed": false
   },
   "id": "c64e9b86a7572848"
  },
  {
   "cell_type": "code",
   "outputs": [],
   "source": [
    "#function randomly sets to zero values with low RNA counts\n",
    "def dropouts(): #function sets to zero values with low counts\n",
    "    %TODO\n",
    "    pass"
   ],
   "metadata": {
    "collapsed": false,
    "ExecuteTime": {
     "end_time": "2024-11-27T08:17:46.737824Z",
     "start_time": "2024-11-27T08:17:46.705908Z"
    }
   },
   "id": "9cb19c4d38641e1a",
   "execution_count": 51
  }
 ],
 "metadata": {
  "kernelspec": {
   "display_name": "Python 3",
   "language": "python",
   "name": "python3"
  },
  "language_info": {
   "codemirror_mode": {
    "name": "ipython",
    "version": 2
   },
   "file_extension": ".py",
   "mimetype": "text/x-python",
   "name": "python",
   "nbconvert_exporter": "python",
   "pygments_lexer": "ipython2",
   "version": "2.7.6"
  }
 },
 "nbformat": 4,
 "nbformat_minor": 5
}
