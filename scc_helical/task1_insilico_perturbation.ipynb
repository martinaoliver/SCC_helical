{
 "cells": [
  {
   "cell_type": "code",
   "outputs": [],
   "source": [
    "from datasets import load_dataset\n",
    "from helical.utils import get_anndata_from_hf_dataset\n",
    "import numpy as np\n",
    "from scipy.sparse import csr_matrix"
   ],
   "metadata": {
    "collapsed": false,
    "ExecuteTime": {
     "end_time": "2024-11-26T18:23:51.314892Z",
     "start_time": "2024-11-26T18:23:51.310353Z"
    }
   },
   "id": "2356d7f6dea8fb5",
   "execution_count": 34
  },
  {
   "cell_type": "markdown",
   "source": [
    "## 1. Load test datasets to apply perturbations"
   ],
   "metadata": {
    "collapsed": false
   },
   "id": "aeb61dcd26f74ee8"
  },
  {
   "cell_type": "code",
   "outputs": [
    {
     "data": {
      "text/plain": "Generating train split:   0%|          | 0/25344 [00:00<?, ? examples/s]",
      "application/vnd.jupyter.widget-view+json": {
       "version_major": 2,
       "version_minor": 0,
       "model_id": "883840e8e5c7476c824ca4756bd9a23c"
      }
     },
     "metadata": {},
     "output_type": "display_data"
    },
    {
     "data": {
      "text/plain": "Generating test split:   0%|          | 0/6336 [00:00<?, ? examples/s]",
      "application/vnd.jupyter.widget-view+json": {
       "version_major": 2,
       "version_minor": 0,
       "model_id": "4fa8177b1c02471daeb03fe601b09011"
      }
     },
     "metadata": {},
     "output_type": "display_data"
    },
    {
     "name": "stderr",
     "output_type": "stream",
     "text": [
      "/Users/mo2016/Library/Caches/pypoetry/virtualenvs/scc-helical--RZZoshj-py3.11/lib/python3.11/site-packages/anndata/_core/aligned_df.py:67: ImplicitModificationWarning: Transforming to str index.\n",
      "  warnings.warn(\"Transforming to str index.\", ImplicitModificationWarning)\n"
     ]
    },
    {
     "data": {
      "text/plain": "View of AnnData object with n_obs × n_vars = 100 × 37318\n    obs: 'LVL1', 'LVL2', 'LVL3'\n    var: 'gene_name'"
     },
     "execution_count": 17,
     "metadata": {},
     "output_type": "execute_result"
    }
   ],
   "source": [
    "yolksac_hf_dataset = load_dataset(\"helical-ai/yolksac_human\", trust_remote_code=True, download_mode=\"reuse_cache_if_exists\") #load hf_dataset from helical's profile in hf\n",
    "yolksac_anndata = get_anndata_from_hf_dataset(yolksac_hf_dataset[\"train\"])[:100] #generate annData object from huggingface dataset\n",
    "yolksac_anndata"
   ],
   "metadata": {
    "collapsed": false,
    "ExecuteTime": {
     "end_time": "2024-11-26T16:00:27.344076Z",
     "start_time": "2024-11-26T15:59:53.137453Z"
    }
   },
   "id": "47f253de8d2cc436",
   "execution_count": 17
  },
  {
   "cell_type": "markdown",
   "source": [
    "## 2. Add biologically relevant noise "
   ],
   "metadata": {
    "collapsed": false
   },
   "id": "3f510388b3662c6f"
  },
  {
   "cell_type": "code",
   "outputs": [],
   "source": [
    "def add_noise(anndata, noise_distribution='logNormal', scaling_factor=1):\n",
    "    # Compute mean for each gene\n",
    "    gene_means = np.array(anndata.X.mean(axis=0)).flatten()\n",
    "    gene_means = np.where(gene_means == 0, 1e-6, gene_means)  # change zeros by 1e-6 to avoid division errors\n",
    "\n",
    "    # Compute std for each gene\n",
    "    gene_stds = np.sqrt((anndata.X.power(2).mean(axis=0) - np.power(gene_means, 2))).flatten()  # Sparse std computation\n",
    "\n",
    "    # Add noise gaussian noise\n",
    "    if noise_distribution == 'normal':\n",
    "        noise = np.abs(np.random.normal(loc=1, scale=scaling_factor * gene_stds,\n",
    "                                        size=anndata.X.shape))  # abs used to avoid negative values\n",
    "\n",
    "    # Add logNormal noise (avoids negative numbers)\n",
    "    elif noise_distribution == 'logNormal':\n",
    "        gene_cv = gene_stds / gene_means  # Coefficient of variation used in logNormal\n",
    "        noise = np.random.lognormal(mean=0, sigma=scaling_factor * gene_cv, size=anndata.X.shape)\n",
    "\n",
    "    # both distributions have a scaling factor to introduce more or less noise.\n",
    "\n",
    "    # Apply noise to the sparse matrix\n",
    "    anndata.X = anndata.X.multiply(noise)  # Element-wise multiplication for sparse matrices\n",
    "    anndata.X = csr_matrix(np.round(anndata.X).astype(int))  # Ensure the result is a sparse integer matrix\n",
    "    assert not np.any(anndata.X.toarray() < 0)  # test to check no negative numbers generated\n",
    "\n",
    "    return anndata\n"
   ],
   "metadata": {
    "collapsed": false,
    "ExecuteTime": {
     "end_time": "2024-11-26T16:39:36.517559Z",
     "start_time": "2024-11-26T16:39:36.504206Z"
    }
   },
   "id": "db88d6d5da414ab0",
   "execution_count": 30
  },
  {
   "cell_type": "code",
   "outputs": [
    {
     "name": "stderr",
     "output_type": "stream",
     "text": [
      "/var/folders/bt/1cqt3cks1sl9cz4dfwlyxhpm0000gn/T/ipykernel_12959/906491021.py:10: RuntimeWarning: invalid value encountered in sqrt\n",
      "  gene_stds = np.sqrt((anndata.X.power(2).mean(axis=0) - np.power(gene_means, 2))).flatten()  # Sparse std computation\n"
     ]
    }
   ],
   "source": [
    "yolksac_anndata_noise = add_noise(yolksac_anndata, noise_distribution='logNormal', scaling_factor=1)"
   ],
   "metadata": {
    "collapsed": false,
    "ExecuteTime": {
     "end_time": "2024-11-26T16:39:40.368809Z",
     "start_time": "2024-11-26T16:39:36.867961Z"
    }
   },
   "id": "2965dce0a903415f",
   "execution_count": 31
  },
  {
   "cell_type": "markdown",
   "source": [
    "## 3. Add perturbations\n"
   ],
   "metadata": {
    "collapsed": false
   },
   "id": "a18560f29ca8881e"
  },
  {
   "cell_type": "code",
   "outputs": [],
   "source": [
    "# This function takes as inputs anndata (dataset which will be subjected to gene perturbations) and the specified perturbation\n",
    "# Both upregulation, downregulation, deletino and gene saturation can be simulated\n",
    "# Multiple gene perturbations can be simulated\n",
    "def add_perturbations(anndata_subset, anndata, gene_perturbations):\n",
    "    anndata_subset_perturbed = anndata_subset.copy()\n",
    "    for gene, perturbation in gene_perturbations.items():\n",
    "        if perturbation == 'down':\n",
    "            min_value = anndata[:, gene].X.min()\n",
    "            anndata_subset_perturbed[:, gene].X = int(min_value)\n",
    "\n",
    "        if perturbation == 'up':\n",
    "            max_value = anndata[:, gene].X.max()\n",
    "            anndata_subset_perturbed[:, gene].X = int(max_value)\n",
    "\n",
    "        if perturbation == 'deletion':\n",
    "            anndata_subset_perturbed[:, gene].X = 0\n",
    "\n",
    "        if perturbation == 'saturation':\n",
    "            anndata_subset_perturbed[:, gene].X = 1000\n",
    "    return anndata_subset_perturbed\n",
    "\n",
    "\n"
   ],
   "metadata": {
    "collapsed": false,
    "ExecuteTime": {
     "end_time": "2024-11-26T16:39:40.374342Z",
     "start_time": "2024-11-26T16:39:40.371178Z"
    }
   },
   "id": "b1394da0971b652",
   "execution_count": 32
  },
  {
   "cell_type": "code",
   "outputs": [
    {
     "ename": "TypeError",
     "evalue": "add_perturbations() missing 1 required positional argument: 'gene_perturbations'",
     "output_type": "error",
     "traceback": [
      "\u001B[0;31m---------------------------------------------------------------------------\u001B[0m",
      "\u001B[0;31mTypeError\u001B[0m                                 Traceback (most recent call last)",
      "Cell \u001B[0;32mIn[33], line 2\u001B[0m\n\u001B[1;32m      1\u001B[0m scc_gene_perturbations \u001B[38;5;241m=\u001B[39m {\u001B[38;5;124m'\u001B[39m\u001B[38;5;124mITGB1\u001B[39m\u001B[38;5;124m'\u001B[39m:\u001B[38;5;124m'\u001B[39m\u001B[38;5;124mup\u001B[39m\u001B[38;5;124m'\u001B[39m, \u001B[38;5;124m'\u001B[39m\u001B[38;5;124mFERMT1\u001B[39m\u001B[38;5;124m'\u001B[39m:\u001B[38;5;124m'\u001B[39m\u001B[38;5;124mdown\u001B[39m\u001B[38;5;124m'\u001B[39m, \u001B[38;5;124m'\u001B[39m\u001B[38;5;124mCD151\u001B[39m\u001B[38;5;124m'\u001B[39m:\u001B[38;5;124m'\u001B[39m\u001B[38;5;124mdeletion\u001B[39m\u001B[38;5;124m'\u001B[39m, \u001B[38;5;124m'\u001B[39m\u001B[38;5;124mARPC2\u001B[39m\u001B[38;5;124m'\u001B[39m:\u001B[38;5;124m'\u001B[39m\u001B[38;5;124msaturation\u001B[39m\u001B[38;5;124m'\u001B[39m} \u001B[38;5;66;03m#Different genes with different types of perturbations\u001B[39;00m\n\u001B[0;32m----> 2\u001B[0m \u001B[43madd_perturbations\u001B[49m\u001B[43m(\u001B[49m\u001B[43myolksac_anndata\u001B[49m\u001B[43m,\u001B[49m\u001B[43m \u001B[49m\u001B[43mscc_gene_perturbations\u001B[49m\u001B[43m)\u001B[49m\n",
      "\u001B[0;31mTypeError\u001B[0m: add_perturbations() missing 1 required positional argument: 'gene_perturbations'"
     ]
    }
   ],
   "source": [
    "scc_gene_perturbations = {'ITGB1':'up', 'FERMT1':'down', 'CD151':'deletion', 'ARPC2':'saturation'} #Different genes with different types of perturbations\n",
    "add_perturbations(yolksac_anndata, scc_gene_perturbations)\n"
   ],
   "metadata": {
    "collapsed": false,
    "ExecuteTime": {
     "end_time": "2024-11-26T16:39:40.523390Z",
     "start_time": "2024-11-26T16:39:40.486661Z"
    }
   },
   "id": "670e24daa40332c1",
   "execution_count": 33
  },
  {
   "cell_type": "markdown",
   "source": [
    "# 4. Add dropouts"
   ],
   "metadata": {
    "collapsed": false
   },
   "id": "c64e9b86a7572848"
  },
  {
   "cell_type": "code",
   "outputs": [],
   "source": [
    "#function randomly sets to zero values with low RNA counts\n",
    "def dropouts(): #function sets to zero values with low counts\n",
    "    %TODO\n",
    "    pass"
   ],
   "metadata": {
    "collapsed": false,
    "ExecuteTime": {
     "end_time": "2024-11-26T15:59:11.408369Z",
     "start_time": "2024-11-26T15:59:11.402257Z"
    }
   },
   "id": "9cb19c4d38641e1a",
   "execution_count": 15
  },
  {
   "cell_type": "code",
   "outputs": [],
   "source": [
    "def batch"
   ],
   "metadata": {
    "collapsed": false
   },
   "id": "220ed0f80a6d877b"
  }
 ],
 "metadata": {
  "kernelspec": {
   "display_name": "Python 3",
   "language": "python",
   "name": "python3"
  },
  "language_info": {
   "codemirror_mode": {
    "name": "ipython",
    "version": 2
   },
   "file_extension": ".py",
   "mimetype": "text/x-python",
   "name": "python",
   "nbconvert_exporter": "python",
   "pygments_lexer": "ipython2",
   "version": "2.7.6"
  }
 },
 "nbformat": 4,
 "nbformat_minor": 5
}
